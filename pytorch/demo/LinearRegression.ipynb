{
 "cells": [
  {
   "cell_type": "code",
   "execution_count": 129,
   "metadata": {},
   "outputs": [
    {
     "name": "stdout",
     "output_type": "stream",
     "text": [
      "随机0-1的小数 [0.32194286 0.33821022 0.6525111  0.13315546 0.02674288 0.23448546\n",
      " 0.21536569 0.85761514 0.08452747 0.89884992]\n",
      "随机0-9的数 4\n",
      "x [ 0  2  4  6  8 10 12 14 16 18 20 22 24 26 28 30 32 34 36 38]\n",
      "x [array([0.08452747]), array([2.85761514]), array([4.08452747]), array([6.33821022]), array([8.85761514]), array([10.02674288]), array([12.02674288]), array([14.6525111]), array([16.23448546]), array([18.85761514]), array([20.02674288]), array([22.21536569]), array([24.02674288]), array([26.02674288]), array([28.23448546]), array([30.08452747]), array([32.08452747]), array([34.85761514]), array([36.21536569]), array([38.32194286])]\n",
      "y [ 0  1  2  3  4  5  6  7  8  9 10 11 12 13 14 15 16 17 18 19]\n",
      "y [array([0.33821022]), array([1.02674288]), array([2.6525111]), array([3.02674288]), array([4.23448546]), array([5.23448546]), array([6.08452747]), array([7.02674288]), array([8.85761514]), array([9.13315546]), array([10.13315546]), array([11.02674288]), array([12.85761514]), array([13.23448546]), array([14.6525111]), array([15.13315546]), array([16.33821022]), array([17.02674288]), array([18.32194286]), array([19.32194286])]\n"
     ]
    },
    {
     "data": {
      "image/png": "[encoded data removed]",
      "text/plain": [
       "<Figure size 432x288 with 1 Axes>"
      ]
     },
     "metadata": {
      "needs_background": "light"
     },
     "output_type": "display_data"
    },
    {
     "name": "stdout",
     "output_type": "stream",
     "text": [
      "tensor(0.2382, device='cuda:0')\n",
      "tensor(0.2269, device='cuda:0')\n",
      "tensor(0.2168, device='cuda:0')\n",
      "tensor(0.2077, device='cuda:0')\n",
      "tensor(0.1994, device='cuda:0')\n",
      "tensor(0.1920, device='cuda:0')\n",
      "tensor(0.1854, device='cuda:0')\n",
      "tensor(0.1793, device='cuda:0')\n",
      "tensor(0.1739, device='cuda:0')\n",
      "tensor(0.1691, device='cuda:0')\n"
     ]
    },
    {
     "data": {
      "image/png": "[encoded data removed]",
      "text/plain": [
       "<Figure size 432x288 with 1 Axes>"
      ]
     },
     "metadata": {
      "needs_background": "light"
     },
     "output_type": "display_data"
    },
    {
     "name": "stdout",
     "output_type": "stream",
     "text": [
      "predicted (array([50.], dtype=float32), array([25.591965], dtype=float32)) (array([60.], dtype=float32), array([30.777382], dtype=float32))\n"
     ]
    }
   ],
   "source": [
    "#线性回归\n",
    "import numpy\n",
    "import matplotlib.pyplot as plt\n",
    "\n",
    "randfloat=numpy.random.rand(10)\n",
    "print(\"随机0-1的小数\",randfloat)\n",
    "index=numpy.random.randint(0,9,1)\n",
    "print(\"随机0-9的数\",index[0])\n",
    "\n",
    "x=2*numpy.arange(20)\n",
    "print(\"x\",x)\n",
    "x=[i+randfloat[numpy.random.randint(0,9,1)] for i in x]\n",
    "print(\"x\",x)\n",
    "\n",
    "\n",
    "y=numpy.arange(20)\n",
    "print(\"y\",y)\n",
    "y=[i+randfloat[numpy.random.randint(0,9,1)] for i in y]\n",
    "print(\"y\",y)\n",
    "\n",
    "plt.figure()\n",
    "plt.scatter(x,y)\n",
    "plt.title(\"x,y\")\n",
    "plt.show()\n",
    "\n",
    "x=numpy.array(x).astype(numpy.float32)\n",
    "y=numpy.array(y).astype(numpy.float32)\n",
    "# 利用torch做线性回归\n",
    "import torch\n",
    "import torch.nn  as nn\n",
    "from torch.autograd import Variable\n",
    "\n",
    "class Lrm(nn.Module):\n",
    "    def __init__(self, input_size, output_size):\n",
    "        super(Lrm, self).__init__()\n",
    "        self.linear = nn.Linear(input_size, output_size)  \n",
    "    \n",
    "    def forward(self, xx):\n",
    "        out = self.linear(xx)\n",
    "        return out\n",
    "\n",
    "lrm = Lrm(input_size, output_size).cuda()\n",
    "\n",
    "input_size = 1\n",
    "output_size = 1\n",
    "learning_rate = 0.001\n",
    "\n",
    "# 误差函数\n",
    "criterion=nn .MSELoss()\n",
    "optimizer=torch.optim.SGD(lrm.parameters(),lr=learning_rate)\n",
    "\n",
    "# 训练1000次\n",
    "c=1000\n",
    "for epoch in range(c):\n",
    "    inputs=Variable(torch.from_numpy(x)).cuda()\n",
    "    targets=Variable(torch.from_numpy(y)).cuda()\n",
    "    # 注意每次迭代都需要清零\n",
    "    optimizer.zero_grad()\n",
    "    # 向前传播\n",
    "    outputs=lrm(inputs)\n",
    "    loss=criterion(outputs,targets)\n",
    "    # 向后传播\n",
    "    loss.backward()\n",
    "    optimizer.step()\n",
    "    if(epoch+1)%100==0:\n",
    "        print(loss.data)\n",
    "        \n",
    "lrm.eval()\n",
    "\n",
    "# 绘制原数据集\n",
    "plt.plot(x, y, 'ro')\n",
    "# 绘制预测\n",
    "xx=numpy.array([numpy.array([50]).astype(numpy.float32),numpy.array([60]).astype(numpy.float32)])\n",
    "\n",
    "predicted = lrm(Variable(torch.from_numpy(xx)).cuda())\n",
    "predicted=predicted.data.cpu().numpy()\n",
    "plt.plot(xx, predicted, label='predict')\n",
    "plt.legend()\n",
    "plt.show()\n",
    "\n",
    "# 打印结果\n",
    "print(\"predicted\",(xx[0],predicted[0]),(xx[-1],predicted[-1]))"
   ]
  },
  {
   "cell_type": "code",
   "execution_count": null,
   "metadata": {},
   "outputs": [],
   "source": []
  },
  {
   "cell_type": "code",
   "execution_count": null,
   "metadata": {},
   "outputs": [],
   "source": []
  }
 ],
 "metadata": {
  "kernelspec": {
   "display_name": "Python 3",
   "language": "python",
   "name": "python3"
  },
  "language_info": {
   "codemirror_mode": {
    "name": "ipython",
    "version": 3
   },
   "file_extension": ".py",
   "mimetype": "text/x-python",
   "name": "python",
   "nbconvert_exporter": "python",
   "pygments_lexer": "ipython3",
   "version": "3.7.2"
  }
 },
 "nbformat": 4,
 "nbformat_minor": 2
}
