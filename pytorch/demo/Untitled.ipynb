{
 "cells": [
  {
   "cell_type": "code",
   "execution_count": 7,
   "metadata": {},
   "outputs": [
    {
     "name": "stdout",
     "output_type": "stream",
     "text": [
      "随机0-1的小数 [0.99403766 0.18210338 0.65536916 0.02803328 0.94274847 0.36912771\n",
      " 0.96050301 0.7131868  0.03911107 0.74386526]\n",
      "随机0-9的数 3\n",
      "x [ 0  2  4  6  8 10 12 14 16 18 20 22 24 26 28 30 32 34 36 38]\n",
      "x [array([0.65536916]), array([2.99403766]), array([4.65536916]), array([6.18210338]), array([8.36912771]), array([10.18210338]), array([12.02803328]), array([14.94274847]), array([16.96050301]), array([18.94274847]), array([20.99403766]), array([22.94274847]), array([24.18210338]), array([26.36912771]), array([28.03911107]), array([30.7131868]), array([32.36912771]), array([34.7131868]), array([36.94274847]), array([38.02803328])]\n",
      "y [ 0  1  2  3  4  5  6  7  8  9 10 11 12 13 14 15 16 17 18 19]\n",
      "y [[1.36255270e-01]\n",
      " [1.87451070e+00]\n",
      " [4.11291897e+00]\n",
      " [1.33617237e+01]\n",
      " [1.63144183e+01]\n",
      " [2.52811186e+01]\n",
      " [3.63371852e+01]\n",
      " [6.33696082e+01]\n",
      " [7.00422987e+01]\n",
      " [9.43459978e+01]\n",
      " [1.03675229e+02]\n",
      " [1.21861973e+02]\n",
      " [1.44673584e+02]\n",
      " [1.73767849e+02]\n",
      " [2.16477866e+02]\n",
      " [2.25841784e+02]\n",
      " [2.77401322e+02]\n",
      " [3.01686598e+02]\n",
      " [3.50183360e+02]\n",
      " [3.99761542e+02]]\n"
     ]
    },
    {
     "data": {
      "image/png": "[encoded data removed]",
      "text/plain": [
       "<Figure size 432x288 with 1 Axes>"
      ]
     },
     "metadata": {
      "needs_background": "light"
     },
     "output_type": "display_data"
    },
    {
     "ename": "KeyboardInterrupt",
     "evalue": "",
     "output_type": "error",
     "traceback": [
      "\u001b[0;31m---------------------------------------------------------------------------\u001b[0m",
      "\u001b[0;31mKeyboardInterrupt\u001b[0m                         Traceback (most recent call last)",
      "\u001b[0;32m<ipython-input-7-c43087f98167>\u001b[0m in \u001b[0;36m<module>\u001b[0;34m()\u001b[0m\n\u001b[1;32m     63\u001b[0m     \u001b[0mloss\u001b[0m\u001b[0;34m=\u001b[0m\u001b[0mcriterion\u001b[0m\u001b[0;34m(\u001b[0m\u001b[0moutputs\u001b[0m\u001b[0;34m,\u001b[0m\u001b[0mtargets\u001b[0m\u001b[0;34m)\u001b[0m\u001b[0;34m\u001b[0m\u001b[0;34m\u001b[0m\u001b[0m\n\u001b[1;32m     64\u001b[0m     \u001b[0;31m# 向后传播\u001b[0m\u001b[0;34m\u001b[0m\u001b[0;34m\u001b[0m\u001b[0;34m\u001b[0m\u001b[0m\n\u001b[0;32m---> 65\u001b[0;31m     \u001b[0mloss\u001b[0m\u001b[0;34m.\u001b[0m\u001b[0mbackward\u001b[0m\u001b[0;34m(\u001b[0m\u001b[0;34m)\u001b[0m\u001b[0;34m\u001b[0m\u001b[0;34m\u001b[0m\u001b[0m\n\u001b[0m\u001b[1;32m     66\u001b[0m     \u001b[0moptimizer\u001b[0m\u001b[0;34m.\u001b[0m\u001b[0mstep\u001b[0m\u001b[0;34m(\u001b[0m\u001b[0;34m)\u001b[0m\u001b[0;34m\u001b[0m\u001b[0;34m\u001b[0m\u001b[0m\n\u001b[1;32m     67\u001b[0m     \u001b[0mepoch\u001b[0m\u001b[0;34m+=\u001b[0m\u001b[0;36m1\u001b[0m\u001b[0;34m\u001b[0m\u001b[0;34m\u001b[0m\u001b[0m\n",
      "\u001b[0;32m~/anaconda3/lib/python3.7/site-packages/torch/tensor.py\u001b[0m in \u001b[0;36mbackward\u001b[0;34m(self, gradient, retain_graph, create_graph)\u001b[0m\n\u001b[1;32m    100\u001b[0m                 \u001b[0mproducts\u001b[0m\u001b[0;34m.\u001b[0m \u001b[0mDefaults\u001b[0m \u001b[0mto\u001b[0m\u001b[0;31m \u001b[0m\u001b[0;31m`\u001b[0m\u001b[0;31m`\u001b[0m\u001b[0;32mFalse\u001b[0m\u001b[0;31m`\u001b[0m\u001b[0;31m`\u001b[0m\u001b[0;34m.\u001b[0m\u001b[0;34m\u001b[0m\u001b[0;34m\u001b[0m\u001b[0m\n\u001b[1;32m    101\u001b[0m         \"\"\"\n\u001b[0;32m--> 102\u001b[0;31m         \u001b[0mtorch\u001b[0m\u001b[0;34m.\u001b[0m\u001b[0mautograd\u001b[0m\u001b[0;34m.\u001b[0m\u001b[0mbackward\u001b[0m\u001b[0;34m(\u001b[0m\u001b[0mself\u001b[0m\u001b[0;34m,\u001b[0m \u001b[0mgradient\u001b[0m\u001b[0;34m,\u001b[0m \u001b[0mretain_graph\u001b[0m\u001b[0;34m,\u001b[0m \u001b[0mcreate_graph\u001b[0m\u001b[0;34m)\u001b[0m\u001b[0;34m\u001b[0m\u001b[0;34m\u001b[0m\u001b[0m\n\u001b[0m\u001b[1;32m    103\u001b[0m \u001b[0;34m\u001b[0m\u001b[0m\n\u001b[1;32m    104\u001b[0m     \u001b[0;32mdef\u001b[0m \u001b[0mregister_hook\u001b[0m\u001b[0;34m(\u001b[0m\u001b[0mself\u001b[0m\u001b[0;34m,\u001b[0m \u001b[0mhook\u001b[0m\u001b[0;34m)\u001b[0m\u001b[0;34m:\u001b[0m\u001b[0;34m\u001b[0m\u001b[0;34m\u001b[0m\u001b[0m\n",
      "\u001b[0;32m~/anaconda3/lib/python3.7/site-packages/torch/autograd/__init__.py\u001b[0m in \u001b[0;36mbackward\u001b[0;34m(tensors, grad_tensors, retain_graph, create_graph, grad_variables)\u001b[0m\n\u001b[1;32m     88\u001b[0m     Variable._execution_engine.run_backward(\n\u001b[1;32m     89\u001b[0m         \u001b[0mtensors\u001b[0m\u001b[0;34m,\u001b[0m \u001b[0mgrad_tensors\u001b[0m\u001b[0;34m,\u001b[0m \u001b[0mretain_graph\u001b[0m\u001b[0;34m,\u001b[0m \u001b[0mcreate_graph\u001b[0m\u001b[0;34m,\u001b[0m\u001b[0;34m\u001b[0m\u001b[0;34m\u001b[0m\u001b[0m\n\u001b[0;32m---> 90\u001b[0;31m         allow_unreachable=True)  # allow_unreachable flag\n\u001b[0m\u001b[1;32m     91\u001b[0m \u001b[0;34m\u001b[0m\u001b[0m\n\u001b[1;32m     92\u001b[0m \u001b[0;34m\u001b[0m\u001b[0m\n",
      "\u001b[0;31mKeyboardInterrupt\u001b[0m: "
     ]
    }
   ],
   "source": [
    "#线性回归\n",
    "import numpy\n",
    "import matplotlib.pyplot as plt\n",
    "\n",
    "randfloat=numpy.random.rand(10)\n",
    "print(\"随机0-1的小数\",randfloat)\n",
    "index=numpy.random.randint(0,9,1)\n",
    "print(\"随机0-9的数\",index[0])\n",
    "\n",
    "x=2*numpy.arange(20)\n",
    "\n",
    "print(\"x\",x)\n",
    "x=[i+randfloat[numpy.random.randint(0,9,1)] for i in x]\n",
    "print(\"x\",x)\n",
    "\n",
    "\n",
    "y=numpy.arange(20)\n",
    "print(\"y\",y)\n",
    "y=[i+randfloat[numpy.random.randint(0,9,1)] for i in y]\n",
    "y=numpy.square(y)\n",
    "print(\"y\",y)\n",
    "\n",
    "plt.figure()\n",
    "plt.scatter(x,y)\n",
    "plt.title(\"x,y\")\n",
    "plt.show()\n",
    "\n",
    "x=numpy.array(x).astype(numpy.float32)\n",
    "y=numpy.array(y).astype(numpy.float32)\n",
    "# 利用torch做线性回归\n",
    "import torch\n",
    "import torch.nn  as nn\n",
    "from torch.autograd import Variable\n",
    "\n",
    "class Lrm(nn.Module):\n",
    "    def __init__(self, input_size, output_size):\n",
    "        super(Lrm, self).__init__()\n",
    "        self.linear = nn.Linear(input_size, output_size)  \n",
    "    \n",
    "    def forward(self, xx):\n",
    "        out = self.linear(xx)\n",
    "        return out\n",
    "input_size = 1\n",
    "output_size = 3\n",
    "lrm = Lrm(input_size, output_size).cuda()\n",
    "\n",
    "\n",
    "learning_rate = 1e-3\n",
    "\n",
    "# 误差函数\n",
    "criterion=nn .MSELoss()\n",
    "optimizer=torch.optim.SGD(lrm.parameters(),lr=learning_rate)\n",
    "\n",
    "epoch=0\n",
    "# 训练1000次\n",
    "while True: \n",
    "    inputs=Variable(torch.from_numpy(x)).cuda()\n",
    "    targets=Variable(torch.from_numpy(y)).cuda()\n",
    "    # 注意每次迭代都需要清零\n",
    "    optimizer.zero_grad()\n",
    "    # 向前传播\n",
    "    outputs=lrm(inputs)\n",
    "    loss=criterion(outputs,targets)\n",
    "    # 向后传播\n",
    "    loss.backward()\n",
    "    optimizer.step()\n",
    "    epoch+=1\n",
    "    if loss <learning_rate: \n",
    "      break\n",
    "        \n",
    "lrm.eval()\n",
    "\n",
    "# 绘制原数据集\n",
    "plt.plot(x, y, 'ro')\n",
    "# 绘制预测\n",
    "xx=numpy.array([numpy.array([50]).astype(numpy.float32),numpy.array([60]).astype(numpy.float32)])\n",
    "\n",
    "predicted = lrm(Variable(torch.from_numpy(xx)).cuda())\n",
    "predicted=predicted.data.cpu().numpy()\n",
    "plt.plot(xx, predicted, label='predict')\n",
    "plt.legend()\n",
    "plt.show()\n",
    "\n",
    "# 打印结果\n",
    "print(\"predicted\",(xx[0],predicted[0]),(xx[-1],predicted[-1]))"
   ]
  },
  {
   "cell_type": "code",
   "execution_count": null,
   "metadata": {},
   "outputs": [],
   "source": []
  }
 ],
 "metadata": {
  "kernelspec": {
   "display_name": "Python 3",
   "language": "python",
   "name": "python3"
  },
  "language_info": {
   "codemirror_mode": {
    "name": "ipython",
    "version": 3
   },
   "file_extension": ".py",
   "mimetype": "text/x-python",
   "name": "python",
   "nbconvert_exporter": "python",
   "pygments_lexer": "ipython3",
   "version": "3.7.2"
  }
 },
 "nbformat": 4,
 "nbformat_minor": 2
}
