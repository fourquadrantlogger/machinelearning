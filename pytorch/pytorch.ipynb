{
 "cells": [
  {
   "cell_type": "code",
   "execution_count": 2,
   "metadata": {},
   "outputs": [
    {
     "name": "stdout",
     "output_type": "stream",
     "text": [
      "False\n",
      "1.0.1.post2\n"
     ]
    }
   ],
   "source": [
    "# https://pytorch.org/get-started/locally/\n",
    "# 安装pytorch\n",
    "\n",
    "import torch\n",
    "\n",
    "print(torch.cuda.is_available())\n",
    "print(torch.__version__)"
   ]
  },
  {
   "cell_type": "code",
   "execution_count": 2,
   "metadata": {},
   "outputs": [
    {
     "data": {
      "text/plain": [
       "tensor([[ 0.0000e+00,  0.0000e+00,  0.0000e+00,  4.5829e-41, -1.2338e+16],\n",
       "        [ 4.5829e-41, -3.0043e+18,  4.5829e-41,  1.4013e-45,  4.5829e-41],\n",
       "        [ 0.0000e+00,  0.0000e+00,  4.2039e-45,  0.0000e+00,  0.0000e+00],\n",
       "        [ 0.0000e+00,  0.0000e+00,  0.0000e+00,  0.0000e+00,  0.0000e+00]])"
      ]
     },
     "execution_count": 2,
     "metadata": {},
     "output_type": "execute_result"
    }
   ],
   "source": [
    "# 基础数据类型\n",
    "import torch\n",
    "ndarry1=torch.Tensor(4,5)\n",
    "ndarry1"
   ]
  },
  {
   "cell_type": "code",
   "execution_count": 5,
   "metadata": {},
   "outputs": [
    {
     "data": {
      "text/plain": [
       "tensor([[0.6201, 0.4279, 0.3171, 0.0657, 0.6625],\n",
       "        [0.8929, 0.0369, 0.2014, 0.7363, 0.3534],\n",
       "        [0.0015, 0.1736, 0.5160, 0.9122, 0.6848],\n",
       "        [0.4258, 0.1324, 0.3275, 0.1390, 0.9963]])"
      ]
     },
     "execution_count": 5,
     "metadata": {},
     "output_type": "execute_result"
    }
   ],
   "source": [
    "# 基础数据类型\n",
    "import torch\n",
    "ndarry2=torch.rand(4,5)\n",
    "ndarry2"
   ]
  },
  {
   "cell_type": "code",
   "execution_count": 7,
   "metadata": {},
   "outputs": [
    {
     "data": {
      "text/plain": [
       "array([[0.12083489, 0.94630057, 0.24352503, 0.5717744 , 0.5327178 ],\n",
       "       [0.08316886, 0.6811492 , 0.40082502, 0.6781628 , 0.02985924],\n",
       "       [0.09970564, 0.4367131 , 0.4572013 , 0.33369857, 0.79082835],\n",
       "       [0.7973005 , 0.10356903, 0.38802677, 0.5211268 , 0.47488755]],\n",
       "      dtype=float32)"
      ]
     },
     "execution_count": 7,
     "metadata": {},
     "output_type": "execute_result"
    }
   ],
   "source": [
    "# 转numpy\n",
    "import torch\n",
    "ndarry3=torch.rand(4,5)\n",
    "ndarry3.numpy()"
   ]
  },
  {
   "cell_type": "code",
   "execution_count": 8,
   "metadata": {},
   "outputs": [
    {
     "data": {
      "text/plain": [
       "tensor([[-0.3545, -1.0418,  1.1629, -0.5487,  0.3352],\n",
       "        [ 1.0793, -0.0622, -0.4029,  0.6274, -0.1968],\n",
       "        [-0.6175, -0.6202, -0.0541,  1.4951,  1.5021],\n",
       "        [-0.2440,  1.1561, -0.1268,  0.0592, -0.9575]], dtype=torch.float64)"
      ]
     },
     "execution_count": 8,
     "metadata": {},
     "output_type": "execute_result"
    }
   ],
   "source": [
    "# numpy转torch\n",
    "import torch\n",
    "import numpy as np\n",
    "ndarry4=np.random.randn(4,5)\n",
    "torch.from_numpy(ndarry4)"
   ]
  },
  {
   "cell_type": "code",
   "execution_count": 19,
   "metadata": {},
   "outputs": [
    {
     "name": "stdout",
     "output_type": "stream",
     "text": [
      "[[68 21]\n",
      " [75 46]\n",
      " [52 75]\n",
      " [66 30]]\n",
      "tensor([[68., 21.],\n",
      "        [75., 46.],\n",
      "        [52., 75.],\n",
      "        [66., 30.]], dtype=torch.float64)\n"
     ]
    },
    {
     "data": {
      "text/plain": [
       "tensor([44.5000, 60.5000, 63.5000, 48.0000], dtype=torch.float64)"
      ]
     },
     "execution_count": 19,
     "metadata": {},
     "output_type": "execute_result"
    }
   ],
   "source": [
    "# 科学计算函数\n",
    "# 基础数据类型\n",
    "import torch\n",
    "import numpy as np\n",
    "ndarry5=np.random.randint(0,100,size=(4,2))\n",
    "print(ndarry5)\n",
    "ndarry5_porch=torch.from_numpy(ndarry5).double()\n",
    "print(ndarry5_porch)\n",
    "# 均值函数mean只能用于浮点\n",
    "torch.mean(ndarry5_porch,1)"
   ]
  },
  {
   "cell_type": "code",
   "execution_count": 3,
   "metadata": {},
   "outputs": [
    {
     "name": "stdout",
     "output_type": "stream",
     "text": [
      "tensor([[[1, 1],\n",
      "         [1, 1]]], dtype=torch.uint8)\n",
      "True\n",
      "tensor([[[1, 0],\n",
      "         [1, 1]]], dtype=torch.uint8)\n",
      "tensor([[[0, 0],\n",
      "         [1, 0]]], dtype=torch.uint8)\n"
     ]
    }
   ],
   "source": [
    "# 比较\n",
    "import torch\n",
    "a=torch.Tensor([[[1,2],[3,4]]])\n",
    "b=torch.Tensor([[[1,2],[3,4]]])\n",
    "c=torch.Tensor([[[1,3],[2,4]]])\n",
    "print(torch.eq(a,b))\n",
    "print(torch.equal(a,b))\n",
    "\n",
    "# 张量比较\n",
    "print(torch.ge(a,c))\n",
    "print(torch.gt(a,c))"
   ]
  },
  {
   "cell_type": "code",
   "execution_count": null,
   "metadata": {},
   "outputs": [],
   "source": []
  }
 ],
 "metadata": {
  "kernelspec": {
   "display_name": "Python 3",
   "language": "python",
   "name": "python3"
  },
  "language_info": {
   "codemirror_mode": {
    "name": "ipython",
    "version": 3
   },
   "file_extension": ".py",
   "mimetype": "text/x-python",
   "name": "python",
   "nbconvert_exporter": "python",
   "pygments_lexer": "ipython3",
   "version": "3.7.1"
  }
 },
 "nbformat": 4,
 "nbformat_minor": 2
}
